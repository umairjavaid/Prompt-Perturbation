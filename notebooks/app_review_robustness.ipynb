{
 "cells": [
  {
   "cell_type": "markdown",
   "id": "c6a24c4c",
   "metadata": {},
   "source": [
    "# App Review Analysis: Evaluating Foundation Model Robustness\n",
    "\n",
    "This notebook analyzes how different prompt formulations affect foundation models' interpretation of app store reviews. We'll evaluate model robustness across various tasks including sentiment analysis, feature request identification, and bug report detection."
   ]
  },
  {
   "cell_type": "markdown",
   "id": "5947c87b",
   "metadata": {},
   "source": [
    "## Project Structure\n",
    "\n",
    "The project consists of the following components:\n",
    "\n",
    "1. `data_loader.py`: Handles loading and preprocessing of app store review datasets\n",
    "2. `prompt_generator.py`: Creates base prompts and variants for review analysis\n",
    "3. `model_runner.py`: Executes foundation models with different prompts\n",
    "4. `evaluator.py`: Measures consistency and accuracy across prompt variants\n",
    "5. `visualizer.py`: Generates visualizations of model robustness metrics\n",
    "\n",
    "Each module is designed to be modular and reusable for different types of review analysis tasks."
   ]
  },
  {
   "cell_type": "code",
   "execution_count": 1,
   "id": "c60fed38",
   "metadata": {},
   "outputs": [],
   "source": [
    "import sys\n",
    "from pathlib import Path\n",
    "import asyncio\n",
    "\n",
    "# Add the src directory to Python path\n",
    "src_path = Path.cwd().parent / 'src'\n",
    "sys.path.append(str(src_path))\n",
    "\n",
    "# Import project modules\n",
    "from utils.data_loader import AppReviewDataset\n",
    "\n",
    "# Other imports\n",
    "import pandas as pd\n",
    "import numpy as np\n",
    "import matplotlib.pyplot as plt\n",
    "import seaborn as sns\n",
    "from IPython.display import display"
   ]
  },
  {
   "cell_type": "code",
   "execution_count": 2,
   "id": "ccdec3f2",
   "metadata": {},
   "outputs": [],
   "source": [
    "# Set up matplotlib styling to be compatible with newer versions\n",
    "try:\n",
    "    plt.style.use('seaborn-v0_8')\n",
    "except (FileNotFoundError, IOError):\n",
    "    try:\n",
    "        plt.style.use('seaborn-v0_8-whitegrid')\n",
    "    except (FileNotFoundError, IOError):\n",
    "        # If all else fails, use seaborn's native styling\n",
    "        sns.set(style=\"whitegrid\")\n",
    "        \n",
    "# Display available styles if needed\n",
    "# print(plt.style.available)"
   ]
  },
  {
   "cell_type": "markdown",
   "id": "3f69affe",
   "metadata": {},
   "source": [
    "## Data Loading and Preprocessing\n",
    "\n",
    "In this section, we'll load a sample dataset of app store reviews using our `AppReviewDataset` class. The dataset will be preprocessed to ensure consistency and remove any invalid entries."
   ]
  },
  {
   "cell_type": "code",
   "execution_count": 3,
   "id": "158ee585",
   "metadata": {},
   "outputs": [
    {
     "name": "stdout",
     "output_type": "stream",
     "text": [
      "Dataset Statistics:\n",
      "total_reviews: 50\n",
      "avg_rating: 3.66\n",
      "rating_distribution: {5: 17, 2: 17, 4: 16}\n",
      "avg_review_length: 40.42\n",
      "\n",
      "Sample Reviews:\n"
     ]
    },
    {
     "data": {
      "text/html": [
       "<div>\n",
       "<style scoped>\n",
       "    .dataframe tbody tr th:only-of-type {\n",
       "        vertical-align: middle;\n",
       "    }\n",
       "\n",
       "    .dataframe tbody tr th {\n",
       "        vertical-align: top;\n",
       "    }\n",
       "\n",
       "    .dataframe thead th {\n",
       "        text-align: right;\n",
       "    }\n",
       "</style>\n",
       "<table border=\"1\" class=\"dataframe\">\n",
       "  <thead>\n",
       "    <tr style=\"text-align: right;\">\n",
       "      <th></th>\n",
       "      <th>review_id</th>\n",
       "      <th>text</th>\n",
       "      <th>rating</th>\n",
       "      <th>date</th>\n",
       "    </tr>\n",
       "  </thead>\n",
       "  <tbody>\n",
       "    <tr>\n",
       "      <th>0</th>\n",
       "      <td>1</td>\n",
       "      <td>Great app, really helpful for productivity!</td>\n",
       "      <td>5</td>\n",
       "      <td>2025-04-03 11:30:00.308440</td>\n",
       "    </tr>\n",
       "    <tr>\n",
       "      <th>1</th>\n",
       "      <td>2</td>\n",
       "      <td>The latest update broke the login feature.</td>\n",
       "      <td>2</td>\n",
       "      <td>2025-04-04 11:30:00.308440</td>\n",
       "    </tr>\n",
       "    <tr>\n",
       "      <th>2</th>\n",
       "      <td>3</td>\n",
       "      <td>Would be better if it had dark mode.</td>\n",
       "      <td>4</td>\n",
       "      <td>2025-04-05 11:30:00.308440</td>\n",
       "    </tr>\n",
       "    <tr>\n",
       "      <th>3</th>\n",
       "      <td>4</td>\n",
       "      <td>Great app, really helpful for productivity!</td>\n",
       "      <td>5</td>\n",
       "      <td>2025-04-06 11:30:00.308440</td>\n",
       "    </tr>\n",
       "    <tr>\n",
       "      <th>4</th>\n",
       "      <td>5</td>\n",
       "      <td>The latest update broke the login feature.</td>\n",
       "      <td>2</td>\n",
       "      <td>2025-04-07 11:30:00.308440</td>\n",
       "    </tr>\n",
       "  </tbody>\n",
       "</table>\n",
       "</div>"
      ],
      "text/plain": [
       "   review_id                                         text  rating  \\\n",
       "0          1  Great app, really helpful for productivity!       5   \n",
       "1          2   The latest update broke the login feature.       2   \n",
       "2          3         Would be better if it had dark mode.       4   \n",
       "3          4  Great app, really helpful for productivity!       5   \n",
       "4          5   The latest update broke the login feature.       2   \n",
       "\n",
       "                        date  \n",
       "0 2025-04-03 11:30:00.308440  \n",
       "1 2025-04-04 11:30:00.308440  \n",
       "2 2025-04-05 11:30:00.308440  \n",
       "3 2025-04-06 11:30:00.308440  \n",
       "4 2025-04-07 11:30:00.308440  "
      ]
     },
     "metadata": {},
     "output_type": "display_data"
    }
   ],
   "source": [
    "# Initialize the dataset loader\n",
    "data_dir = Path.cwd().parent / 'data'\n",
    "dataset = AppReviewDataset(data_dir)\n",
    "\n",
    "# Load sample dataset (50 reviews)\n",
    "reviews_df = dataset.get_reviews(n_samples=50)\n",
    "\n",
    "# Display basic statistics\n",
    "stats = dataset.get_statistics()\n",
    "print(\"Dataset Statistics:\")\n",
    "for key, value in stats.items():\n",
    "    print(f\"{key}: {value}\")\n",
    "\n",
    "# Display first few reviews\n",
    "print(\"\\nSample Reviews:\")\n",
    "display(reviews_df.head())"
   ]
  },
  {
   "cell_type": "markdown",
   "id": "ae5ddd7a",
   "metadata": {},
   "source": [
    "## Data Validation\n",
    "\n",
    "Let's validate our dataset to ensure it meets our requirements:\n",
    "1. Each review should have non-empty text\n",
    "2. Ratings should be within valid range (1-5)\n",
    "3. Dates should be properly formatted\n",
    "4. No duplicate reviews"
   ]
  },
  {
   "cell_type": "code",
   "execution_count": 4,
   "id": "328e9a35",
   "metadata": {},
   "outputs": [
    {
     "name": "stdout",
     "output_type": "stream",
     "text": [
      "Validation Results:\n",
      "total_reviews: 50\n",
      "empty_reviews: 0\n",
      "invalid_ratings: 0\n",
      "invalid_dates: 0\n",
      "duplicate_reviews: 47\n"
     ]
    }
   ],
   "source": [
    "def validate_dataset(df: pd.DataFrame) -> dict:\n",
    "    \"\"\"Validate the dataset and return validation results.\"\"\"\n",
    "    results = {\n",
    "        'total_reviews': len(df),\n",
    "        'empty_reviews': df['text'].isna().sum(),\n",
    "        'invalid_ratings': df[~df['rating'].between(1, 5)].shape[0],\n",
    "        'invalid_dates': df['date'].isna().sum(),\n",
    "        'duplicate_reviews': df.duplicated(subset=['text']).sum()\n",
    "    }\n",
    "    return results\n",
    "\n",
    "# Run validation\n",
    "validation_results = validate_dataset(reviews_df)\n",
    "print(\"Validation Results:\")\n",
    "for key, value in validation_results.items():\n",
    "    print(f\"{key}: {value}\")"
   ]
  },
  {
   "cell_type": "markdown",
   "id": "9df10621",
   "metadata": {},
   "source": [
    "## Prompt Generation and Analysis\n",
    "\n",
    "Now we'll explore different ways to phrase prompts for analyzing app store reviews. We'll create multiple variants for each task (sentiment analysis, feature request detection, and bug report identification) to test model robustness."
   ]
  },
  {
   "cell_type": "code",
   "execution_count": 5,
   "id": "6668f713",
   "metadata": {},
   "outputs": [
    {
     "name": "stdout",
     "output_type": "stream",
     "text": [
      "Available tasks: ['sentiment', 'feature_request', 'bug_report']\n",
      "Available prompt styles: ['formal', 'casual', 'detailed', 'structured', 'minimal']\n"
     ]
    }
   ],
   "source": [
    "from utils.prompt_generator import PromptGenerator\n",
    "\n",
    "# Initialize the prompt generator\n",
    "prompt_gen = PromptGenerator()\n",
    "\n",
    "# Display available tasks and styles\n",
    "print(\"Available tasks:\", prompt_gen.get_task_list())\n",
    "print(\"Available prompt styles:\", prompt_gen.get_style_list())"
   ]
  },
  {
   "cell_type": "code",
   "execution_count": 6,
   "id": "a9c4b693",
   "metadata": {},
   "outputs": [
    {
     "name": "stdout",
     "output_type": "stream",
     "text": [
      "\n",
      "=== SENTIMENT ANALYSIS PROMPTS ===\n",
      "\n",
      "Style: formal\n",
      "Prompt:\n",
      "Analyze the sentiment of this app store review: 'Great app, really helpful for productivity!'. Classify it as positive, neutral, or negative.\n",
      "\n",
      "Style: casual\n",
      "Prompt:\n",
      "Hey, what's the vibe of this review? 'Great app, really helpful for productivity!' Is it positive, neutral, or negative?\n",
      "\n",
      "Style: detailed\n",
      "Prompt:\n",
      "Please evaluate the sentiment expressed in the following app store review: 'Great app, really helpful for productivity!'. Consider the user's tone, word choice, and overall message to classify it as positive, neutral, or negative. Provide your classification.\n",
      "\n",
      "Style: structured\n",
      "Prompt:\n",
      "INPUT: 'Great app, really helpful for productivity!'\n",
      "TASK: Sentiment Analysis\n",
      "OUTPUT FORMAT: One of [positive, neutral, negative]\n",
      "ANALYSIS:\n",
      "\n",
      "Style: minimal\n",
      "Prompt:\n",
      "Review: 'Great app, really helpful for productivity!'\n",
      "Sentiment (positive/neutral/negative):\n",
      "\n",
      "=== FEATURE_REQUEST ANALYSIS PROMPTS ===\n",
      "\n",
      "Style: formal\n",
      "Prompt:\n",
      "Does this app store review contain a feature request? Review: 'Great app, really helpful for productivity!'. Please identify any requested features.\n",
      "\n",
      "Style: casual\n",
      "Prompt:\n",
      "Can you spot any feature requests in this review? 'Great app, really helpful for productivity!' What does the user want to be added?\n",
      "\n",
      "Style: detailed\n",
      "Prompt:\n",
      "Analyze this app store review for feature requests: 'Great app, really helpful for productivity!'. Identify any specific features, functionality, or improvements the user is asking for.\n",
      "\n",
      "Style: structured\n",
      "Prompt:\n",
      "INPUT: 'Great app, really helpful for productivity!'\n",
      "TASK: Feature Request Detection\n",
      "OUTPUT FORMAT: [Yes/No] + [Requested Feature]\n",
      "ANALYSIS:\n",
      "\n",
      "Style: minimal\n",
      "Prompt:\n",
      "Review: 'Great app, really helpful for productivity!'\n",
      "Contains feature request? (yes/no):\n",
      "\n",
      "=== BUG_REPORT ANALYSIS PROMPTS ===\n",
      "\n",
      "Style: formal\n",
      "Prompt:\n",
      "Identify if this app store review reports any bugs or technical issues: 'Great app, really helpful for productivity!'\n",
      "\n",
      "Style: casual\n",
      "Prompt:\n",
      "Hey, does this review mention any bugs or problems? 'Great app, really helpful for productivity!'\n",
      "\n",
      "Style: detailed\n",
      "Prompt:\n",
      "Please analyze this app store review for bug reports or technical issues: 'Great app, really helpful for productivity!'. Identify specific problems mentioned by the user.\n",
      "\n",
      "Style: structured\n",
      "Prompt:\n",
      "INPUT: 'Great app, really helpful for productivity!'\n",
      "TASK: Bug Report Detection\n",
      "OUTPUT FORMAT: [Yes/No] + [Description of Issue]\n",
      "ANALYSIS:\n",
      "\n",
      "Style: minimal\n",
      "Prompt:\n",
      "Review: 'Great app, really helpful for productivity!'\n",
      "Contains bug report? (yes/no):\n"
     ]
    }
   ],
   "source": [
    "# Let's explore prompt variants for a sample review\n",
    "sample_review = reviews_df.iloc[0]['text']\n",
    "\n",
    "# Generate prompts for each task\n",
    "for task in prompt_gen.get_task_list():\n",
    "    print(f\"\\n=== {task.upper()} ANALYSIS PROMPTS ===\")\n",
    "    variants = prompt_gen.get_prompt_variants(task, sample_review)\n",
    "    \n",
    "    for variant in variants:\n",
    "        print(f\"\\nStyle: {variant['style']}\")\n",
    "        print(\"Prompt:\")\n",
    "        print(variant['prompt'])"
   ]
  },
  {
   "cell_type": "markdown",
   "id": "2212ae71",
   "metadata": {},
   "source": [
    "As we can see above, we have different prompt variants for each analysis task. The variants differ in:\n",
    "\n",
    "1. Formality level (formal vs casual)\n",
    "2. Structure (free-form vs structured)\n",
    "3. Level of detail in instructions\n",
    "4. Output format specification\n",
    "\n",
    "These variations will help us evaluate how sensitive the models are to prompt phrasing and structure."
   ]
  },
  {
   "cell_type": "markdown",
   "id": "91c48aba",
   "metadata": {},
   "source": [
    "## Model Execution and Result Collection\n",
    "\n",
    "In this section, we'll run our foundation models (OpenAI and Hugging Face) with different prompt variants. We'll collect and store the results for later analysis of model robustness."
   ]
  },
  {
   "cell_type": "code",
   "execution_count": 7,
   "id": "c23101b9",
   "metadata": {},
   "outputs": [
    {
     "name": "stderr",
     "output_type": "stream",
     "text": [
      "Device set to use cpu\n",
      "Device set to use cpu\n",
      "Device set to use cpu\n"
     ]
    },
    {
     "name": "stdout",
     "output_type": "stream",
     "text": [
      "Available Models:\n",
      "\n",
      "OPENAI:\n",
      "\n",
      "HUGGINGFACE:\n",
      "- distilbert-base-uncased-finetuned-sst-2-english\n",
      "- facebook/bart-large-mnli\n"
     ]
    }
   ],
   "source": [
    "import asyncio\n",
    "from utils.model_runner import ModelRunner\n",
    "\n",
    "# Initialize the model runner\n",
    "model_runner = ModelRunner()\n",
    "\n",
    "# Display available models\n",
    "print(\"Available Models:\")\n",
    "for provider, models in model_runner.get_available_models().items():\n",
    "    print(f\"\\n{provider.upper()}:\")\n",
    "    for model in models:\n",
    "        print(f\"- {model}\")"
   ]
  },
  {
   "cell_type": "code",
   "execution_count": 8,
   "id": "186c0d39",
   "metadata": {},
   "outputs": [],
   "source": [
    "async def analyze_reviews_with_variants(reviews, n_samples=5):\n",
    "    \"\"\"Analyze a sample of reviews with different prompt variants.\"\"\"\n",
    "    results = []\n",
    "    sample_reviews = reviews.sample(n=n_samples)\n",
    "    \n",
    "    for _, review in sample_reviews.iterrows():\n",
    "        review_results = {'review_id': review['review_id'], 'text': review['text'], 'tasks': {}}\n",
    "        \n",
    "        for task in prompt_gen.get_task_list():\n",
    "            variants = prompt_gen.get_prompt_variants(task, review['text'])\n",
    "            task_results = []\n",
    "            \n",
    "            for variant in variants:\n",
    "                result = await model_runner.analyze_review(\n",
    "                    review['text'],\n",
    "                    variant['prompt'],\n",
    "                    task\n",
    "                )\n",
    "                task_results.append({\n",
    "                    'style': variant['style'],\n",
    "                    'prompt': variant['prompt'],\n",
    "                    'result': result\n",
    "                })\n",
    "                \n",
    "            review_results['tasks'][task] = task_results\n",
    "        results.append(review_results)\n",
    "    \n",
    "    return results"
   ]
  },
  {
   "cell_type": "code",
   "execution_count": 9,
   "id": "f3381497",
   "metadata": {},
   "outputs": [],
   "source": [
    "import json"
   ]
  },
  {
   "cell_type": "code",
   "execution_count": 10,
   "id": "7a9a4e78",
   "metadata": {},
   "outputs": [
    {
     "name": "stdout",
     "output_type": "stream",
     "text": [
      "Analyzing reviews with different prompt variants...\n",
      "Error during analysis: This event loop is already running\n"
     ]
    },
    {
     "name": "stderr",
     "output_type": "stream",
     "text": [
      "/tmp/ipykernel_30475/2939638283.py:26: RuntimeWarning: coroutine 'analyze_reviews_with_variants' was never awaited\n",
      "  results = []\n",
      "RuntimeWarning: Enable tracemalloc to get the object allocation traceback\n"
     ]
    }
   ],
   "source": [
    "# Ensure we have the asyncio event loop set up for Jupyter\n",
    "try:\n",
    "    loop = asyncio.get_event_loop()\n",
    "except RuntimeError:\n",
    "    loop = asyncio.new_event_loop()\n",
    "    asyncio.set_event_loop(loop)\n",
    "\n",
    "# Run analysis on a sample of reviews\n",
    "print(\"Analyzing reviews with different prompt variants...\")\n",
    "try:\n",
    "    # Create results directory if it doesn't exist\n",
    "    results_dir = Path.cwd().parent / 'data' / 'results'\n",
    "    results_dir.mkdir(exist_ok=True, parents=True)\n",
    "    \n",
    "    # Execute the analysis\n",
    "    results = loop.run_until_complete(analyze_reviews_with_variants(reviews_df, n_samples=5))\n",
    "    \n",
    "    # Save results for later analysis\n",
    "    with open(results_dir / 'analysis_results.json', 'w') as f:\n",
    "        json.dump(results, f, indent=2)\n",
    "    \n",
    "    print(f\"\\nAnalysis complete. Results saved to {results_dir / 'analysis_results.json'}\")\n",
    "except Exception as e:\n",
    "    print(f\"Error during analysis: {str(e)}\")\n",
    "    # Create minimal results structure if analysis failed\n",
    "    results = []"
   ]
  },
  {
   "cell_type": "code",
   "execution_count": 11,
   "id": "5cca41de",
   "metadata": {},
   "outputs": [
    {
     "name": "stdout",
     "output_type": "stream",
     "text": [
      "\n",
      "Sample Results Preview:\n",
      "No results available. The results list is empty.\n",
      "Loaded from file - Review: Great app, really helpful for productivity!\n"
     ]
    }
   ],
   "source": [
    "# Preview results for one review\n",
    "print(\"\\nSample Results Preview:\")\n",
    "if results and len(results) > 0:\n",
    "    sample_result = results[0]\n",
    "    print(f\"Review: {sample_result['text']}\")\n",
    "\n",
    "    for task, task_results in sample_result['tasks'].items():\n",
    "        print(f\"\\n=== {task.upper()} ANALYSIS ===\")\n",
    "        for variant_result in task_results:\n",
    "            print(f\"\\nStyle: {variant_result['style']}\")\n",
    "            if 'openai' in variant_result['result']:\n",
    "                print(\"OpenAI:\", variant_result['result']['openai']['response'])\n",
    "            if 'huggingface' in variant_result['result']:\n",
    "                print(\"HuggingFace:\", variant_result['result']['huggingface']['predictions'])\n",
    "else:\n",
    "    print(\"No results available. The results list is empty.\")\n",
    "    # Try loading from file if results is empty\n",
    "    try:\n",
    "        import json\n",
    "        results_path = Path.cwd().parent / 'data' / 'results' / 'analysis_results.json'\n",
    "        if results_path.exists():\n",
    "            with open(results_path) as f:\n",
    "                loaded_results = json.load(f)\n",
    "                if loaded_results and len(loaded_results) > 0:\n",
    "                    sample_result = loaded_results[0]\n",
    "                    print(f\"Loaded from file - Review: {sample_result['text']}\")\n",
    "                    # Continue displaying results...\n",
    "    except Exception as e:\n",
    "        print(f\"Could not load results from file: {str(e)}\")"
   ]
  },
  {
   "cell_type": "markdown",
   "id": "e1facf02",
   "metadata": {},
   "source": [
    "## Model Robustness Evaluation\n",
    "\n",
    "Now we'll evaluate the robustness of our models by analyzing:\n",
    "1. Consistency across prompt variants\n",
    "2. Agreement between different models\n",
    "3. Response stability\n",
    "4. Per-task and overall metrics"
   ]
  },
  {
   "cell_type": "code",
   "execution_count": 12,
   "id": "5d84dd17",
   "metadata": {},
   "outputs": [
    {
     "name": "stdout",
     "output_type": "stream",
     "text": [
      "Evaluating model robustness...\n"
     ]
    }
   ],
   "source": [
    "from utils.evaluator import ModelEvaluator\n",
    "\n",
    "# Initialize the evaluator\n",
    "evaluator = ModelEvaluator()\n",
    "\n",
    "# Load results from file\n",
    "results_path = Path.cwd().parent / 'data' / 'results' / 'analysis_results.json'\n",
    "with open(results_path) as f:\n",
    "    analysis_results = json.load(f)\n",
    "\n",
    "# Run evaluation\n",
    "print(\"Evaluating model robustness...\")\n",
    "evaluation_results = evaluator.evaluate_results(analysis_results)"
   ]
  },
  {
   "cell_type": "code",
   "execution_count": 13,
   "id": "f9325217",
   "metadata": {},
   "outputs": [
    {
     "name": "stdout",
     "output_type": "stream",
     "text": [
      "\n",
      "Overall Robustness Metrics:\n",
      "average_prompt_variation_consistency: 0.000\n",
      "average_model_agreement: 0.000\n",
      "average_response_stability: 0.000\n"
     ]
    },
    {
     "data": {
      "image/png": "[encoded data removed]",
      "text/plain": [
       "<Figure size 1200x600 with 2 Axes>"
      ]
     },
     "metadata": {},
     "output_type": "display_data"
    }
   ],
   "source": [
    "# Display overall metrics\n",
    "print(\"\\nOverall Robustness Metrics:\")\n",
    "for metric, value in evaluation_results['overall_metrics'].items():\n",
    "    print(f\"{metric}: {value:.3f}\")\n",
    "\n",
    "# Create heatmap of task-specific metrics\n",
    "metrics_data = []\n",
    "for task, task_metrics in evaluation_results['per_task_metrics'].items():\n",
    "    for metric, value in task_metrics.items():\n",
    "        metrics_data.append({\n",
    "            'Task': task,\n",
    "            'Metric': metric,\n",
    "            'Value': value\n",
    "        })\n",
    "\n",
    "metrics_df = pd.DataFrame(metrics_data)\n",
    "metrics_pivot = metrics_df.pivot(index='Task', columns='Metric', values='Value')\n",
    "\n",
    "plt.figure(figsize=(12, 6))\n",
    "sns.heatmap(metrics_pivot, annot=True, cmap='YlGnBu', fmt='.3f')\n",
    "plt.title('Model Robustness Metrics by Task')\n",
    "plt.tight_layout()\n",
    "plt.show()"
   ]
  },
  {
   "cell_type": "code",
   "execution_count": 14,
   "id": "b60baacf",
   "metadata": {},
   "outputs": [
    {
     "name": "stdout",
     "output_type": "stream",
     "text": [
      "\n",
      "Per-Review Analysis:\n",
      "\n",
      "Review 46: Great app, really helpful for productivity!...\n",
      "  sentiment: consistency = 0.000\n",
      "  feature_request: consistency = 0.000\n",
      "  bug_report: consistency = 0.000\n",
      "\n",
      "Review 12: Would be better if it had dark mode....\n",
      "  sentiment: consistency = 0.000\n",
      "  feature_request: consistency = 0.000\n",
      "  bug_report: consistency = 0.000\n",
      "\n",
      "Review 11: The latest update broke the login feature....\n",
      "  sentiment: consistency = 0.000\n",
      "  feature_request: consistency = 0.000\n",
      "  bug_report: consistency = 0.000\n",
      "\n",
      "Review 39: Would be better if it had dark mode....\n",
      "  sentiment: consistency = 0.000\n",
      "  feature_request: consistency = 0.000\n",
      "  bug_report: consistency = 0.000\n",
      "\n",
      "Review 19: Great app, really helpful for productivity!...\n",
      "  sentiment: consistency = 0.000\n",
      "  feature_request: consistency = 0.000\n",
      "  bug_report: consistency = 0.000\n"
     ]
    }
   ],
   "source": [
    "# Analyze per-review metrics\n",
    "print(\"\\nPer-Review Analysis:\")\n",
    "for review_id, review_metrics in evaluation_results['per_review_metrics'].items():\n",
    "    review_text = next(\n",
    "        r['text'] for r in analysis_results if str(r['review_id']) == review_id\n",
    "    )\n",
    "    print(f\"\\nReview {review_id}: {review_text[:100]}...\")\n",
    "    \n",
    "    for task, metrics in review_metrics.items():\n",
    "        print(f\"  {task}: consistency = {metrics['consistency']:.3f}\")"
   ]
  },
  {
   "cell_type": "markdown",
   "id": "6d4d0e5a",
   "metadata": {},
   "source": [
    "### Key Findings\n",
    "\n",
    "1. **Prompt Variation Consistency**: Measures how consistent model responses are across different prompt phrasings\n",
    "2. **Model Agreement**: Shows how well OpenAI and Hugging Face models agree on their predictions\n",
    "3. **Response Stability**: Indicates how stable the responses are when prompt style changes\n",
    "\n",
    "These metrics help us understand how robust the models are to changes in prompt formulation."
   ]
  },
  {
   "cell_type": "markdown",
   "id": "5582c441",
   "metadata": {},
   "source": [
    "## Visualization of Results\n",
    "\n",
    "Let's create various visualizations to better understand the model robustness analysis:"
   ]
  },
  {
   "cell_type": "code",
   "execution_count": 15,
   "id": "9172eb03",
   "metadata": {},
   "outputs": [],
   "source": [
    "# This import is already included in cell #79c7d016\n",
    "pass"
   ]
  },
  {
   "cell_type": "code",
   "execution_count": 16,
   "id": "5276d8b1",
   "metadata": {},
   "outputs": [
    {
     "name": "stdout",
     "output_type": "stream",
     "text": [
      "Generating visualizations...\n",
      "Error generating visualizations: 'Review ID'\n"
     ]
    }
   ],
   "source": [
    "from utils.visualizer import ModelVisualizer\n",
    "\n",
    "# Initialize the visualizer and ensure directory exists\n",
    "vis_dir = Path.cwd().parent / 'data' / 'visualizations'\n",
    "vis_dir.mkdir(exist_ok=True, parents=True)\n",
    "visualizer = ModelVisualizer(vis_dir)\n",
    "\n",
    "# Create visualizations\n",
    "print(\"Generating visualizations...\")\n",
    "try:\n",
    "    # 1. Prompt impact heatmaps for each task\n",
    "    for task in ['sentiment', 'feature_request', 'bug_report']:\n",
    "        visualizer.create_prompt_impact_heatmap(analysis_results, task)\n",
    "        \n",
    "    # 2. Model agreement plot\n",
    "    visualizer.plot_model_agreement(analysis_results)\n",
    "    \n",
    "    # 3. Consistency matrix\n",
    "    visualizer.plot_consistency_matrix(evaluation_results)\n",
    "    \n",
    "    # 4. Robustness radar plot\n",
    "    visualizer.plot_robustness_radar(evaluation_results)\n",
    "    \n",
    "    print(f\"\\nVisualizations saved to {vis_dir}\")\n",
    "except Exception as e:\n",
    "    print(f\"Error generating visualizations: {str(e)}\")"
   ]
  },
  {
   "cell_type": "markdown",
   "id": "21140424",
   "metadata": {},
   "source": [
    "### Interpretation of Visualizations\n",
    "\n",
    "1. **Prompt Impact Heatmaps**: Show how different prompt styles affect response characteristics for each task\n",
    "2. **Model Agreement Plot**: Visualizes the level of agreement between OpenAI and Hugging Face models\n",
    "3. **Consistency Matrix**: Displays the consistency of model behavior across different tasks and metrics\n",
    "4. **Robustness Radar**: Provides a high-level view of model robustness across multiple dimensions\n",
    "\n",
    "These visualizations help identify:\n",
    "- Which prompt styles lead to more consistent results\n",
    "- Where models tend to agree or disagree\n",
    "- Tasks that are more sensitive to prompt variations\n",
    "- Overall robustness patterns"
   ]
  }
 ],
 "metadata": {
  "kernelspec": {
   "display_name": "Python 3",
   "language": "python",
   "name": "python3"
  },
  "language_info": {
   "codemirror_mode": {
    "name": "ipython",
    "version": 3
   },
   "file_extension": ".py",
   "mimetype": "text/x-python",
   "name": "python",
   "nbconvert_exporter": "python",
   "pygments_lexer": "ipython3",
   "version": "3.12.1"
  }
 },
 "nbformat": 4,
 "nbformat_minor": 5
}
